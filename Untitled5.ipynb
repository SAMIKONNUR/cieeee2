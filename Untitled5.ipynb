{
  "nbformat": 4,
  "nbformat_minor": 0,
  "metadata": {
    "colab": {
      "provenance": [],
      "authorship_tag": "ABX9TyOhCQYkbfj9cyKq0SYM3Ezv",
      "include_colab_link": true
    },
    "kernelspec": {
      "name": "python3",
      "display_name": "Python 3"
    },
    "language_info": {
      "name": "python"
    }
  },
  "cells": [
    {
      "cell_type": "markdown",
      "metadata": {
        "id": "view-in-github",
        "colab_type": "text"
      },
      "source": [
        "<a href=\"https://colab.research.google.com/github/SAMIKONNUR/cieeee2/blob/main/Untitled5.ipynb\" target=\"_parent\"><img src=\"https://colab.research.google.com/assets/colab-badge.svg\" alt=\"Open In Colab\"/></a>"
      ]
    },
    {
      "cell_type": "code",
      "execution_count": null,
      "metadata": {
        "colab": {
          "base_uri": "https://localhost:8080/"
        },
        "id": "wenXuzEmF-SW",
        "outputId": "8458d04d-9d76-4a22-a333-1fb197eab399"
      },
      "outputs": [
        {
          "output_type": "stream",
          "name": "stdout",
          "text": [
            "<class 'pandas.core.frame.DataFrame'>\n",
            "RangeIndex: 891 entries, 0 to 890\n",
            "Data columns (total 12 columns):\n",
            " #   Column       Non-Null Count  Dtype  \n",
            "---  ------       --------------  -----  \n",
            " 0   PassengerId  891 non-null    int64  \n",
            " 1   Survived     891 non-null    int64  \n",
            " 2   Pclass       891 non-null    int64  \n",
            " 3   Name         891 non-null    object \n",
            " 4   Sex          891 non-null    object \n",
            " 5   Age          714 non-null    float64\n",
            " 6   SibSp        891 non-null    int64  \n",
            " 7   Parch        891 non-null    int64  \n",
            " 8   Ticket       891 non-null    object \n",
            " 9   Fare         891 non-null    float64\n",
            " 10  Cabin        204 non-null    object \n",
            " 11  Embarked     889 non-null    object \n",
            "dtypes: float64(2), int64(5), object(5)\n",
            "memory usage: 83.7+ KB\n",
            "None\n",
            "   PassengerId  Survived  Pclass  \\\n",
            "0            1         0       3   \n",
            "1            2         1       1   \n",
            "2            3         1       3   \n",
            "3            4         1       1   \n",
            "4            5         0       3   \n",
            "\n",
            "                                                Name     Sex   Age  SibSp  \\\n",
            "0                            Braund, Mr. Owen Harris    male  22.0      1   \n",
            "1  Cumings, Mrs. John Bradley (Florence Briggs Th...  female  38.0      1   \n",
            "2                             Heikkinen, Miss. Laina  female  26.0      0   \n",
            "3       Futrelle, Mrs. Jacques Heath (Lily May Peel)  female  35.0      1   \n",
            "4                           Allen, Mr. William Henry    male  35.0      0   \n",
            "\n",
            "   Parch            Ticket     Fare Cabin Embarked  \n",
            "0      0         A/5 21171   7.2500   NaN        S  \n",
            "1      0          PC 17599  71.2833   C85        C  \n",
            "2      0  STON/O2. 3101282   7.9250   NaN        S  \n",
            "3      0            113803  53.1000  C123        S  \n",
            "4      0            373450   8.0500   NaN        S  \n",
            "       PassengerId    Survived      Pclass         Age       SibSp  \\\n",
            "count   891.000000  891.000000  891.000000  714.000000  891.000000   \n",
            "mean    446.000000    0.383838    2.308642   29.699118    0.523008   \n",
            "std     257.353842    0.486592    0.836071   14.526497    1.102743   \n",
            "min       1.000000    0.000000    1.000000    0.420000    0.000000   \n",
            "25%     223.500000    0.000000    2.000000   20.125000    0.000000   \n",
            "50%     446.000000    0.000000    3.000000   28.000000    0.000000   \n",
            "75%     668.500000    1.000000    3.000000   38.000000    1.000000   \n",
            "max     891.000000    1.000000    3.000000   80.000000    8.000000   \n",
            "\n",
            "            Parch        Fare  \n",
            "count  891.000000  891.000000  \n",
            "mean     0.381594   32.204208  \n",
            "std      0.806057   49.693429  \n",
            "min      0.000000    0.000000  \n",
            "25%      0.000000    7.910400  \n",
            "50%      0.000000   14.454200  \n",
            "75%      0.000000   31.000000  \n",
            "max      6.000000  512.329200  \n"
          ]
        }
      ],
      "source": [
        "import pandas as pd\n",
        "import numpy as np\n",
        "import seaborn as sns\n",
        "import matplotlib.pyplot as plt\n",
        "df=pd.read_csv('/content/Titanic-Dataset.csv')\n",
        "\n",
        "print(df.info())\n",
        "print(df.head())\n",
        "print(df.describe())"
      ]
    },
    {
      "cell_type": "code",
      "source": [
        "age_missing=df[df['Age'].isnull()]\n",
        "print(age_missing)\n",
        "\n",
        "survived_missing=df[df['Survived'].isnull()]\n",
        "print(survived_missing)"
      ],
      "metadata": {
        "colab": {
          "base_uri": "https://localhost:8080/"
        },
        "id": "JmgMzYZZNkXR",
        "outputId": "3e84ed9e-33aa-4164-f09a-4ce2a2a93be3"
      },
      "execution_count": 18,
      "outputs": [
        {
          "output_type": "stream",
          "name": "stdout",
          "text": [
            "     PassengerId  Survived  Pclass                                      Name  \\\n",
            "5              6         0       3                          Moran, Mr. James   \n",
            "17            18         1       2              Williams, Mr. Charles Eugene   \n",
            "19            20         1       3                   Masselmani, Mrs. Fatima   \n",
            "26            27         0       3                   Emir, Mr. Farred Chehab   \n",
            "28            29         1       3             O'Dwyer, Miss. Ellen \"Nellie\"   \n",
            "..           ...       ...     ...                                       ...   \n",
            "859          860         0       3                          Razi, Mr. Raihed   \n",
            "863          864         0       3         Sage, Miss. Dorothy Edith \"Dolly\"   \n",
            "868          869         0       3               van Melkebeke, Mr. Philemon   \n",
            "878          879         0       3                        Laleff, Mr. Kristo   \n",
            "888          889         0       3  Johnston, Miss. Catherine Helen \"Carrie\"   \n",
            "\n",
            "        Sex  Age  SibSp  Parch      Ticket     Fare Cabin Embarked  \n",
            "5      male  NaN      0      0      330877   8.4583   NaN        Q  \n",
            "17     male  NaN      0      0      244373  13.0000   NaN        S  \n",
            "19   female  NaN      0      0        2649   7.2250   NaN        C  \n",
            "26     male  NaN      0      0        2631   7.2250   NaN        C  \n",
            "28   female  NaN      0      0      330959   7.8792   NaN        Q  \n",
            "..      ...  ...    ...    ...         ...      ...   ...      ...  \n",
            "859    male  NaN      0      0        2629   7.2292   NaN        C  \n",
            "863  female  NaN      8      2    CA. 2343  69.5500   NaN        S  \n",
            "868    male  NaN      0      0      345777   9.5000   NaN        S  \n",
            "878    male  NaN      0      0      349217   7.8958   NaN        S  \n",
            "888  female  NaN      1      2  W./C. 6607  23.4500   NaN        S  \n",
            "\n",
            "[177 rows x 12 columns]\n",
            "Empty DataFrame\n",
            "Columns: [PassengerId, Survived, Pclass, Name, Sex, Age, SibSp, Parch, Ticket, Fare, Cabin, Embarked]\n",
            "Index: []\n"
          ]
        }
      ]
    }
  ]
}